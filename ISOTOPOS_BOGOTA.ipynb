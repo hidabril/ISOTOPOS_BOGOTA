{
 "cells": [
  {
   "cell_type": "code",
   "execution_count": 15,
   "id": "2fe64e28-bc06-4704-81f8-6b2503be147f",
   "metadata": {},
   "outputs": [],
   "source": [
    "from jupyter_dash import JupyterDash\n",
    "import pandas as pd\n",
    "import plotly.express as px  # (version 4.7.0 or higher)\n",
    "import plotly.graph_objects as go\n",
    "from dash import Dash, dcc, html, Input, Output  # pip install dash (version 2.0.0 or higher)\n",
    "\n",
    "\n",
    "app = JupyterDash(__name__)\n"
   ]
  },
  {
   "cell_type": "code",
   "execution_count": 16,
   "id": "95fce75d-ff74-4ed3-89cc-3395011033a7",
   "metadata": {},
   "outputs": [],
   "source": [
    "# -- Import and clean data (importing csv into pandas)\n",
    "# df = pd.read_csv(\"intro_bees.csv\")\n",
    "df = pd.read_csv(\"Resultados_feb.csv\")\n",
    "\n",
    "#df = df.groupby(['Tipo', 'Fecha', 'Nombre', 'Nombre2', 'd2H', 'd18O', 'Tipo', 'd-excess', 'Mes'])\n",
    "#df.reset_index(inplace=True)\n",
    "\n",
    "DEFAULT_COLORSCALE = [\n",
    "    \"#f2fffb\",\n",
    "    \"#bbffeb\",\n",
    "    \"#98ffe0\",\n",
    "    \"#79ffd6\",\n",
    "    \"#6df0c8\",\n",
    "    \"#69e7c0\",\n",
    "    \"#59dab2\",\n",
    "    \"#45d0a5\",\n",
    "    \"#31c194\",\n",
    "    \"#2bb489\",\n",
    "    \"#25a27b\",\n",
    "    \"#1e906d\",\n",
    "    \"#188463\",\n",
    "    \"#157658\",\n",
    "    \"#11684d\",\n",
    "    \"#10523e\",\n",
    "]\n",
    "\n",
    "DEFAULT_OPACITY = 0.8\n"
   ]
  },
  {
   "cell_type": "code",
   "execution_count": 17,
   "id": "5ebcab47-ea88-4036-9cf4-6ea7132c8269",
   "metadata": {},
   "outputs": [
    {
     "name": "stdout",
     "output_type": "stream",
     "text": [
      "Dash is running on http://127.0.0.1:8050/\n",
      "\n",
      "Dash app running on http://127.0.0.1:8050/\n"
     ]
    }
   ],
   "source": [
    "# ------------------------------------------------------------------------------\n",
    "# App layout\n",
    "app.layout = html.Div([\n",
    "\n",
    "    html.H1(\"Isotopos Bogotá HYDS\", style={'text-align': 'center'}),\n",
    "\n",
    "    dcc.Dropdown(id=\"slct_year\",\n",
    "                 options=[\n",
    "                     {\"label\": \"TOT Totalizador Hidráulica\", \"value\": 1},\n",
    "                     {\"label\": \"PA-25 Genética\", \"value\": 2016},\n",
    "                     {\"label\": \"PZ-227\", \"value\": 2017},\n",
    "                     {\"label\": \"POZO-227\", \"value\": 2018},\n",
    "                     {\"label\": \"Hidráulica 03\", \"value\": 2018}],\n",
    "                 multi=False,\n",
    "                 value=2015,\n",
    "                 style={'width': \"40%\"}\n",
    "                 ),\n",
    "\n",
    "    html.Div(id='output_container', children=[]),\n",
    "    html.Br(),\n",
    "\n",
    "    dcc.Graph(id='my_bee_map', figure={})\n",
    "    \n",
    "    \n",
    "])\n",
    "\n",
    "if __name__ == '__main__':\n",
    "    app.run_server()"
   ]
  },
  {
   "cell_type": "code",
   "execution_count": null,
   "id": "5d7be586",
   "metadata": {},
   "outputs": [],
   "source": []
  }
 ],
 "metadata": {
  "kernelspec": {
   "display_name": "Python 3 (ipykernel)",
   "language": "python",
   "name": "python3"
  },
  "language_info": {
   "codemirror_mode": {
    "name": "ipython",
    "version": 3
   },
   "file_extension": ".py",
   "mimetype": "text/x-python",
   "name": "python",
   "nbconvert_exporter": "python",
   "pygments_lexer": "ipython3",
   "version": "3.11.1"
  }
 },
 "nbformat": 4,
 "nbformat_minor": 5
}
